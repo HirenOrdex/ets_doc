{
  "nbformat": 4,
  "nbformat_minor": 0,
  "metadata": {
    "colab": {
      "provenance": [],
      "authorship_tag": "ABX9TyMWaj27ZvR5n/uRhECr15S5",
      "include_colab_link": true
    },
    "kernelspec": {
      "name": "python3",
      "display_name": "Python 3"
    },
    "language_info": {
      "name": "python"
    }
  },
  "cells": [
    {
      "cell_type": "markdown",
      "metadata": {
        "id": "view-in-github",
        "colab_type": "text"
      },
      "source": [
        "<a href=\"https://colab.research.google.com/github/HirenOrdex/ets_doc/blob/main/_swagger.ipynb\" target=\"_parent\"><img src=\"https://colab.research.google.com/assets/colab-badge.svg\" alt=\"Open In Colab\"/></a>"
      ]
    },
    {
      "cell_type": "markdown",
      "source": [],
      "metadata": {
        "id": "nYJgWKxFrTA1"
      }
    },
    {
      "cell_type": "markdown",
      "source": [],
      "metadata": {
        "id": "dHjBMxMsrTSq"
      }
    },
    {
      "cell_type": "code",
      "source": [],
      "metadata": {
        "id": "77VUEuKWrTw6"
      },
      "execution_count": null,
      "outputs": []
    },
    {
      "cell_type": "code",
      "execution_count": 1,
      "metadata": {
        "colab": {
          "base_uri": "https://localhost:8080/"
        },
        "id": "wBB9HJFArM1q",
        "outputId": "6dee6031-4c57-4f3e-9af2-ab01b5c5333e"
      },
      "outputs": [
        {
          "output_type": "stream",
          "name": "stdout",
          "text": [
            "Cloning into 'ets_doc'...\n",
            "remote: Enumerating objects: 15, done.\u001b[K\n",
            "remote: Counting objects: 100% (15/15), done.\u001b[K\n",
            "remote: Compressing objects: 100% (12/12), done.\u001b[K\n",
            "remote: Total 15 (delta 4), reused 7 (delta 2), pack-reused 0\u001b[K\n",
            "Receiving objects: 100% (15/15), 515.00 KiB | 2.86 MiB/s, done.\n",
            "Resolving deltas: 100% (4/4), done.\n"
          ]
        }
      ],
      "source": [
        "! git clone https://github.com/HirenOrdex/ets_doc.git"
      ]
    },
    {
      "cell_type": "code",
      "source": [
        "import os\n",
        "import json\n",
        "\n",
        "def process_properties(properties, required_properties, indent_level=0):\n",
        "    \"\"\"\n",
        "    Recursively processes the properties of a schema object to generate the correct Swagger comments.\n",
        "    \"\"\"\n",
        "    indent = \" \" * indent_level\n",
        "    comment = \"\"\n",
        "\n",
        "    for prop_name, prop_value in properties.items():\n",
        "        prop_type = prop_value.get(\"type\", \"object\")\n",
        "        example = prop_value.get(\"example\", \"\")\n",
        "        required = prop_name in required_properties\n",
        "        comment += f\"{indent}{prop_name}:\\n\"\n",
        "        comment += f\"{indent}  type: {prop_type}\\n\"\n",
        "        comment += f\"{indent}  required: {required}\\n\"\n",
        "        if example:\n",
        "            comment += f\"{indent}  example: {example}\\n\"\n",
        "        if prop_type == \"object\" and \"properties\" in prop_value:\n",
        "            comment += f\"{indent}  properties:\\n\"\n",
        "            comment += process_properties(prop_value[\"properties\"], prop_value.get('required', []), indent_level + 4)\n",
        "        elif prop_type == \"array\" and \"items\" in prop_value:\n",
        "            comment += f\"{indent}  items:\\n\"\n",
        "            comment += process_properties(prop_value[\"items\"][\"properties\"], prop_value[\"items\"].get('required', []), indent_level + 4)\n",
        "\n",
        "    return comment\n",
        "\n",
        "def generate_swagger_comments(swagger_file):\n",
        "    with open(swagger_file, 'r', encoding='utf-8') as f:\n",
        "        swagger_data = json.load(f)\n",
        "\n",
        "    paths = swagger_data.get('paths', {})\n",
        "    comments = []\n",
        "\n",
        "    for path_key, path_value in paths.items():\n",
        "        for method_key, method_value in path_value.items():\n",
        "            tags = method_value.get('tags', [])\n",
        "            summary = method_value.get('summary', '')\n",
        "            deprecated = method_value.get('deprecated', False)\n",
        "            description = method_value.get('description', '')\n",
        "            parameters = method_value.get('parameters', [])\n",
        "            responses = method_value.get('responses', {})\n",
        "            request_body = method_value.get('requestBody', {})\n",
        "\n",
        "            # Generate comment for each route\n",
        "            comment = \"/**\\n\"\n",
        "            comment += f\" * @swagger\\n\"\n",
        "            comment += f\" * paths:\\n\"\n",
        "            comment += f\" *   {path_key}:\\n\"\n",
        "            comment += f\" *     {method_key.lower()}:\\n\"\n",
        "            comment += f\" *       tags:\\n\"\n",
        "            for tag in tags:\n",
        "                comment += f\" *         - {tag}\\n\"\n",
        "            comment += f\" *       summary: {summary}\\n\"\n",
        "            if deprecated:\n",
        "                comment += f\" *       deprecated: {deprecated}\\n\"\n",
        "            if description:\n",
        "                comment += f\" *       description: {description}\\n\"\n",
        "            if parameters:\n",
        "                comment += f\" *       parameters:\\n\"\n",
        "                for param in parameters:\n",
        "                    comment += f\" *         - name: {param['name']}\\n\"\n",
        "                    comment += f\" *           in: {param['in']}\\n\"\n",
        "                    comment += f\" *           required: {param.get('required', False)}\\n\"\n",
        "                    comment += f\" *           type: {param.get('type', 'string')}\\n\"\n",
        "                    if 'x-example' in param:\n",
        "                        comment += f\" *           example: {param['x-example']}\\n\"\n",
        "            if request_body:\n",
        "                content = request_body.get('content', {})\n",
        "                for content_type, content_details in content.items():\n",
        "                    schema = content_details.get('schema', {})\n",
        "                    if schema:\n",
        "                        comment += f\" *       requestBody:\\n\"\n",
        "                        comment += f\" *         required: true\\n\"\n",
        "                        comment += f\" *         content:\\n\"\n",
        "                        comment += f\" *           {content_type}:\\n\"\n",
        "                        comment += f\" *             schema:\\n\"\n",
        "                        comment += f\" *               type: {schema.get('type', 'object')}\\n\"\n",
        "                        if 'properties' in schema:\n",
        "                            comment += f\" *               properties:\\n\"\n",
        "                            comment += process_properties(schema[\"properties\"], schema.get('required', []), 18)\n",
        "\n",
        "            if responses:\n",
        "                comment += f\" *       responses:\\n\"\n",
        "                for code, resp in responses.items():\n",
        "                    comment += f\" *         '{code}':\\n\"\n",
        "                    comment += f\" *           description: {resp.get('description', '')}\\n\"\n",
        "            comment += f\" */\\n\"\n",
        "\n",
        "            comments.append(comment)\n",
        "\n",
        "    return comments\n",
        "\n",
        "def process_folder(folder_path):\n",
        "    # Ensure folder path ends with a slash\n",
        "    if not folder_path.endswith('/'):\n",
        "        folder_path += '/'\n",
        "\n",
        "    # List all files in the folder\n",
        "    try:\n",
        "        files = os.listdir(folder_path)\n",
        "        print(f\"Files in the folder '{folder_path}': {files}\")\n",
        "    except Exception as e:\n",
        "        print(f\"Error accessing folder '{folder_path}': {e}\")\n",
        "        return\n",
        "\n",
        "    # Filter JSON files\n",
        "    json_files = [f for f in files if f.endswith('.json')]\n",
        "    if not json_files:\n",
        "        print(f\"No JSON files found in the folder '{folder_path}'.\")\n",
        "        return\n",
        "\n",
        "    # Process each JSON file\n",
        "    for json_file in json_files:\n",
        "        file_path = os.path.join(folder_path, json_file)\n",
        "        print(f\"Generating Swagger comments for {file_path}...\")\n",
        "\n",
        "        # Generate comments for the JSON file\n",
        "        try:\n",
        "            swagger_comments = generate_swagger_comments(file_path)\n",
        "            # Write comments to a txt file\n",
        "            txt_file_path = os.path.splitext(file_path)[0] + '_comments.txt'\n",
        "            with open(txt_file_path, 'w', encoding='utf-8') as txt_file:\n",
        "                for comment in swagger_comments:\n",
        "                    txt_file.write(comment)\n",
        "\n",
        "            print(f\"Comments saved to {txt_file_path}\")\n",
        "        except Exception as e:\n",
        "            print(f\"Error processing file '{file_path}': {e}\")\n",
        "\n",
        "if __name__ == \"__main__\":\n",
        "    api_folder = \"/content/ets_doc/api\"  # Replace with your API folder path\n",
        "\n",
        "    if os.path.exists(api_folder):\n",
        "        process_folder(api_folder)\n",
        "    else:\n",
        "        print(f\"API folder '{api_folder}' not found.\")\n"
      ],
      "metadata": {
        "colab": {
          "base_uri": "https://localhost:8080/"
        },
        "id": "Nh1u2VRJrQMQ",
        "outputId": "f547a4a7-c903-4ea2-da35-fd4e1abc641e"
      },
      "execution_count": 15,
      "outputs": [
        {
          "output_type": "stream",
          "name": "stdout",
          "text": [
            "Files in the folder '/content/ets_doc/api/': ['driver.json', '.ipynb_checkpoints', 'driver_comments.txt', 'trip_comments.txt', 'auth_comments.txt', 'json.json', 'trip.json', 'auth.json']\n",
            "Generating Swagger comments for /content/ets_doc/api/driver.json...\n",
            "Comments saved to /content/ets_doc/api/driver_comments.txt\n",
            "Generating Swagger comments for /content/ets_doc/api/json.json...\n",
            "Comments saved to /content/ets_doc/api/json_comments.txt\n",
            "Generating Swagger comments for /content/ets_doc/api/trip.json...\n",
            "Comments saved to /content/ets_doc/api/trip_comments.txt\n",
            "Generating Swagger comments for /content/ets_doc/api/auth.json...\n",
            "Comments saved to /content/ets_doc/api/auth_comments.txt\n"
          ]
        }
      ]
    }
  ]
}
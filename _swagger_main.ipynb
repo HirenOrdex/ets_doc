{
  "nbformat": 4,
  "nbformat_minor": 0,
  "metadata": {
    "colab": {
      "provenance": [],
      "authorship_tag": "ABX9TyO8goc0jQpgvnXfQ+YVDO2h",
      "include_colab_link": true
    },
    "kernelspec": {
      "name": "python3",
      "display_name": "Python 3"
    },
    "language_info": {
      "name": "python"
    }
  },
  "cells": [
    {
      "cell_type": "markdown",
      "metadata": {
        "id": "view-in-github",
        "colab_type": "text"
      },
      "source": [
        "<a href=\"https://colab.research.google.com/github/HirenOrdex/ets_doc/blob/main/_swagger_main.ipynb\" target=\"_parent\"><img src=\"https://colab.research.google.com/assets/colab-badge.svg\" alt=\"Open In Colab\"/></a>"
      ]
    },
    {
      "cell_type": "markdown",
      "source": [],
      "metadata": {
        "id": "nYJgWKxFrTA1"
      }
    },
    {
      "cell_type": "markdown",
      "source": [],
      "metadata": {
        "id": "dHjBMxMsrTSq"
      }
    },
    {
      "cell_type": "code",
      "source": [],
      "metadata": {
        "id": "77VUEuKWrTw6"
      },
      "execution_count": null,
      "outputs": []
    },
    {
      "cell_type": "code",
      "execution_count": 1,
      "metadata": {
        "colab": {
          "base_uri": "https://localhost:8080/"
        },
        "id": "wBB9HJFArM1q",
        "outputId": "0ed0b471-024e-4892-8bc2-3864f0d56dd2"
      },
      "outputs": [
        {
          "output_type": "stream",
          "name": "stdout",
          "text": [
            "Cloning into 'ets_doc'...\n",
            "remote: Enumerating objects: 18, done.\u001b[K\n",
            "remote: Counting objects: 100% (18/18), done.\u001b[K\n",
            "remote: Compressing objects: 100% (15/15), done.\u001b[K\n",
            "remote: Total 18 (delta 5), reused 7 (delta 2), pack-reused 0\u001b[K\n",
            "Receiving objects: 100% (18/18), 517.74 KiB | 3.38 MiB/s, done.\n",
            "Resolving deltas: 100% (5/5), done.\n"
          ]
        }
      ],
      "source": [
        "! git clone https://github.com/HirenOrdex/ets_doc.git"
      ]
    },
    {
      "cell_type": "code",
      "source": [
        "import os\n",
        "import json\n",
        "\n",
        "def process_properties(properties, required_properties, indent_level=0):\n",
        "    \"\"\"\n",
        "    Recursively processes the properties of a schema object to generate the correct Swagger comments.\n",
        "    \"\"\"\n",
        "    indent = \" \" * indent_level\n",
        "    comment = \"\"\n",
        "\n",
        "    for prop_name, prop_value in properties.items():\n",
        "        prop_type = prop_value.get(\"type\", \"object\")\n",
        "        required = prop_name in required_properties\n",
        "        comment += f\"{indent}{prop_name}:\\n\"\n",
        "        comment += f\"{indent}  type: {prop_type}\\n\"\n",
        "        comment += f\"{indent}  required: {required}\\n\"\n",
        "        if prop_type == \"object\":\n",
        "            if \"properties\" in prop_value:\n",
        "                comment += f\"{indent}  properties:\\n\"\n",
        "                comment += process_properties(prop_value[\"properties\"], prop_value.get('required', []), indent_level + 4)\n",
        "        elif prop_type == \"array\":\n",
        "            if \"items\" in prop_value and \"properties\" in prop_value[\"items\"]:\n",
        "                comment += f\"{indent}  items:\\n\"\n",
        "                comment += process_properties(prop_value[\"items\"][\"properties\"], prop_value[\"items\"].get('required', []), indent_level + 4)\n",
        "\n",
        "    return comment\n",
        "\n",
        "def generate_swagger_comment(path_key, method_key, method_value):\n",
        "    \"\"\"\n",
        "    Generate Swagger comment block for a single endpoint.\n",
        "    \"\"\"\n",
        "    tags = method_value.get('tags', [])\n",
        "    summary = method_value.get('summary', '')\n",
        "    parameters = method_value.get('parameters', [])\n",
        "    request_body = method_value.get('requestBody', {})\n",
        "    responses = method_value.get('responses', {})\n",
        "\n",
        "    comment = \"/**\\n\"\n",
        "    comment += f\" * @swagger\\n\"\n",
        "    comment += f\" * paths:\\n\"\n",
        "    comment += f\" *   {path_key}:\\n\"\n",
        "    comment += f\" *     {method_key}:\\n\"\n",
        "    comment += f\" *       tags:\\n\"\n",
        "    for tag in tags:\n",
        "        comment += f\" *         - {tag}\\n\"\n",
        "    comment += f\" *       summary: {summary}\\n\"\n",
        "\n",
        "    # Parameters\n",
        "    if parameters:\n",
        "        comment += f\" *       parameters:\\n\"\n",
        "        for param in parameters:\n",
        "            comment += f\" *         - name: {param['name']}\\n\"\n",
        "            comment += f\" *           in: {param['in']}\\n\"\n",
        "            comment += f\" *           required: {param.get('required', False)}\\n\"\n",
        "            comment += f\" *           schema:\\n\"\n",
        "            if 'schema' in param:\n",
        "                comment += f\" *             type: {param['schema'].get('type', 'object')}\\n\"\n",
        "                if 'properties' in param['schema']:\n",
        "                    comment += f\" *             properties:\\n\"\n",
        "                    comment += process_properties(param['schema']['properties'], param['schema'].get('required', []), 16)\n",
        "\n",
        "    # Request Body\n",
        "    if request_body:\n",
        "        content = request_body.get('content', {})\n",
        "        for content_type, content_details in content.items():\n",
        "            schema = content_details.get('schema', {})\n",
        "            if schema:\n",
        "                comment += f\" *       requestBody:\\n\"\n",
        "                comment += f\" *         required: true\\n\"\n",
        "                comment += f\" *         content:\\n\"\n",
        "                comment += f\" *           {content_type}:\\n\"\n",
        "                comment += f\" *             schema:\\n\"\n",
        "                comment += f\" *               type: {schema.get('type', 'object')}\\n\"\n",
        "                if 'properties' in schema:\n",
        "                    comment += f\" *               properties:\\n\"\n",
        "                    comment += process_properties(schema[\"properties\"], schema.get('required', []), 18)\n",
        "\n",
        "    # Responses\n",
        "    if responses:\n",
        "        comment += f\" *       responses:\\n\"\n",
        "        for code, resp in responses.items():\n",
        "            comment += f\" *         '{code}':\\n\"\n",
        "            comment += f\" *           description: {resp.get('description', '')}\\n\"\n",
        "\n",
        "    comment += f\" */\\n\"\n",
        "    return comment\n",
        "\n",
        "def process_folder(folder_path):\n",
        "    # Ensure folder path ends with a slash\n",
        "    if not folder_path.endswith('/'):\n",
        "        folder_path += '/'\n",
        "\n",
        "    # List all files in the folder\n",
        "    try:\n",
        "        files = os.listdir(folder_path)\n",
        "        print(f\"Files in the folder '{folder_path}': {files}\")\n",
        "    except Exception as e:\n",
        "        print(f\"Error accessing folder '{folder_path}': {e}\")\n",
        "        return\n",
        "\n",
        "    # Filter JSON files\n",
        "    json_files = [f for f in files if f.endswith('.json')]\n",
        "    if not json_files:\n",
        "        print(f\"No JSON files found in the folder '{folder_path}'.\")\n",
        "        return\n",
        "\n",
        "    # Process each JSON file\n",
        "    for json_file in json_files:\n",
        "        file_path = os.path.join(folder_path, json_file)\n",
        "        print(f\"Generating Swagger comments for {file_path}...\")\n",
        "\n",
        "        # Generate comments for the JSON file\n",
        "        try:\n",
        "            with open(file_path, 'r', encoding='utf-8') as f:\n",
        "                swagger_data = json.load(f)\n",
        "\n",
        "                comments = []\n",
        "                paths = swagger_data.get('paths', {})\n",
        "                for path_key, path_value in paths.items():\n",
        "                    for method_key, method_value in path_value.items():\n",
        "                        comment = generate_swagger_comment(path_key, method_key, method_value)\n",
        "                        comments.append(comment)\n",
        "\n",
        "                # Write comments to a txt file\n",
        "                txt_file_path = os.path.splitext(file_path)[0] + '_comments.txt'\n",
        "                with open(txt_file_path, 'w', encoding='utf-8') as txt_file:\n",
        "                    for comment in comments:\n",
        "                        txt_file.write(comment)\n",
        "\n",
        "                print(f\"Comments saved to {txt_file_path}\")\n",
        "        except Exception as e:\n",
        "            print(f\"Error processing file '{file_path}': {e}\")\n",
        "\n",
        "if __name__ == \"__main__\":\n",
        "    api_folder = \"/content/ets_doc/api\"  # Replace with your API folder path\n",
        "\n",
        "    if os.path.exists(api_folder):\n",
        "        process_folder(api_folder)\n",
        "    else:\n",
        "        print(f\"API folder '{api_folder}' not found.\")\n"
      ],
      "metadata": {
        "colab": {
          "base_uri": "https://localhost:8080/"
        },
        "id": "Nh1u2VRJrQMQ",
        "outputId": "097ce983-2a3b-4caf-fcc5-a92862968ec3"
      },
      "execution_count": 13,
      "outputs": [
        {
          "output_type": "stream",
          "name": "stdout",
          "text": [
            "Files in the folder '/content/ets_doc/api/': ['driver.json', '.ipynb_checkpoints', 'driver_comments.txt', 'trip_comments.txt', 'auth_comments.txt', 'tyre-.json', 'trip.json', 'auth.json']\n",
            "Generating Swagger comments for /content/ets_doc/api/driver.json...\n",
            "Comments saved to /content/ets_doc/api/driver_comments.txt\n",
            "Generating Swagger comments for /content/ets_doc/api/tyre-.json...\n",
            "Comments saved to /content/ets_doc/api/tyre-_comments.txt\n",
            "Generating Swagger comments for /content/ets_doc/api/trip.json...\n",
            "Comments saved to /content/ets_doc/api/trip_comments.txt\n",
            "Generating Swagger comments for /content/ets_doc/api/auth.json...\n",
            "Comments saved to /content/ets_doc/api/auth_comments.txt\n"
          ]
        }
      ]
    }
  ]
}